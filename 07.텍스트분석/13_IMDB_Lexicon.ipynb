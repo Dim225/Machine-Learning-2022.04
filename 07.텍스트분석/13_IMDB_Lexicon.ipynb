{
  "nbformat": 4,
  "nbformat_minor": 0,
  "metadata": {
    "colab": {
      "name": "13_IMDB-Lexicon.ipynb",
      "provenance": [],
      "collapsed_sections": []
    },
    "kernelspec": {
      "name": "python3",
      "display_name": "Python 3"
    },
    "language_info": {
      "name": "python"
    }
  },
  "cells": [
    {
      "cell_type": "markdown",
      "source": [
        "# 비지도학습 감성분석 - Lexicon 기반"
      ],
      "metadata": {
        "id": "FiANBXWyfEU6"
      }
    },
    {
      "cell_type": "code",
      "execution_count": 1,
      "metadata": {
        "colab": {
          "resources": {
            "http://localhost:8080/nbextensions/google.colab/files.js": {
              "data": "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",
              "ok": true,
              "headers": [
                [
                  "content-type",
                  "application/javascript"
                ]
              ],
              "status": 200,
              "status_text": ""
            }
          },
          "base_uri": "https://localhost:8080/",
          "height": 77
        },
        "id": "hjAGmupxeyw-",
        "outputId": "718f89f2-f4b5-4dcb-868b-5b9bb215d4ef"
      },
      "outputs": [
        {
          "output_type": "display_data",
          "data": {
            "text/plain": [
              "<IPython.core.display.HTML object>"
            ],
            "text/html": [
              "\n",
              "     <input type=\"file\" id=\"files-28792af1-eba1-4a4b-ad75-451b56ee976c\" name=\"files[]\" multiple disabled\n",
              "        style=\"border:none\" />\n",
              "     <output id=\"result-28792af1-eba1-4a4b-ad75-451b56ee976c\">\n",
              "      Upload widget is only available when the cell has been executed in the\n",
              "      current browser session. Please rerun this cell to enable.\n",
              "      </output>\n",
              "      <script src=\"/nbextensions/google.colab/files.js\"></script> "
            ]
          },
          "metadata": {}
        },
        {
          "output_type": "stream",
          "name": "stdout",
          "text": [
            "Saving labeledTrainData.tsv to labeledTrainData.tsv\n"
          ]
        }
      ],
      "source": [
        "import numpy as np\n",
        "import pandas as pd\n",
        "from google.colab import files\n",
        "up = files.upload()"
      ]
    },
    {
      "cell_type": "code",
      "source": [
        "import nltk\n",
        "nltk.download('wordnet')"
      ],
      "metadata": {
        "colab": {
          "base_uri": "https://localhost:8080/"
        },
        "id": "F3jNmAx3fHlG",
        "outputId": "1c2347c8-697b-48db-ad0b-6b8147844a0e"
      },
      "execution_count": 2,
      "outputs": [
        {
          "output_type": "stream",
          "name": "stdout",
          "text": [
            "[nltk_data] Downloading package wordnet to /root/nltk_data...\n",
            "[nltk_data]   Unzipping corpora/wordnet.zip.\n"
          ]
        },
        {
          "output_type": "execute_result",
          "data": {
            "text/plain": [
              "True"
            ]
          },
          "metadata": {},
          "execution_count": 2
        }
      ]
    },
    {
      "cell_type": "markdown",
      "source": [
        "### Wordnet Synset 및 Sentiwordnet SentiSysnset 클래스"
      ],
      "metadata": {
        "id": "d20k_M715BHe"
      }
    },
    {
      "cell_type": "code",
      "source": [
        "import nltk\n",
        "nltk.download('wordnet')"
      ],
      "metadata": {
        "colab": {
          "base_uri": "https://localhost:8080/"
        },
        "id": "c7Gkz4NwjoGO",
        "outputId": "1261c1e5-2623-46df-a70e-10e7e9211997"
      },
      "execution_count": 77,
      "outputs": [
        {
          "output_type": "stream",
          "name": "stdout",
          "text": [
            "[nltk_data] Downloading package wordnet to /root/nltk_data...\n",
            "[nltk_data]   Package wordnet is already up-to-date!\n"
          ]
        },
        {
          "output_type": "execute_result",
          "data": {
            "text/plain": [
              "True"
            ]
          },
          "metadata": {},
          "execution_count": 77
        }
      ]
    },
    {
      "cell_type": "code",
      "source": [
        "from nltk.corpus import wordnet"
      ],
      "metadata": {
        "id": "9ErQG-DD5OO2"
      },
      "execution_count": 78,
      "outputs": []
    },
    {
      "cell_type": "code",
      "source": [
        "term = 'fly'\n",
        "synsets = wordnet.synsets(term)"
      ],
      "metadata": {
        "id": "R39OsX_Vjrvy"
      },
      "execution_count": 11,
      "outputs": []
    },
    {
      "cell_type": "code",
      "source": [
        "type(synsets), len(synsets)"
      ],
      "metadata": {
        "colab": {
          "base_uri": "https://localhost:8080/"
        },
        "id": "62k3Htnajzji",
        "outputId": "fea9ceb2-9e10-4164-93e8-e639b9409394"
      },
      "execution_count": 12,
      "outputs": [
        {
          "output_type": "execute_result",
          "data": {
            "text/plain": [
              "(list, 20)"
            ]
          },
          "metadata": {},
          "execution_count": 12
        }
      ]
    },
    {
      "cell_type": "code",
      "source": [
        "for synset in synsets:\n",
        "    print(f'##### name: {synset.name()} #####')\n",
        "    print('POS:', synset.lexname())\n",
        "    print('정의:', synset.definition())\n",
        "    print('표제어:', synset.lemma_names())"
      ],
      "metadata": {
        "colab": {
          "base_uri": "https://localhost:8080/"
        },
        "id": "TIjA2cSZj2nf",
        "outputId": "a110a51c-871b-4090-ddad-e80c892981bf"
      },
      "execution_count": 13,
      "outputs": [
        {
          "output_type": "stream",
          "name": "stdout",
          "text": [
            "##### name: fly.n.01 #####\n",
            "POS: noun.animal\n",
            "정의: two-winged insects characterized by active flight\n",
            "표제어: ['fly']\n",
            "##### name: tent-fly.n.01 #####\n",
            "POS: noun.artifact\n",
            "정의: flap consisting of a piece of canvas that can be drawn back to provide entrance to a tent\n",
            "표제어: ['tent-fly', 'rainfly', 'fly_sheet', 'fly', 'tent_flap']\n",
            "##### name: fly.n.03 #####\n",
            "POS: noun.artifact\n",
            "정의: an opening in a garment that is closed by a zipper or by buttons concealed under a fold of cloth\n",
            "표제어: ['fly', 'fly_front']\n",
            "##### name: fly.n.04 #####\n",
            "POS: noun.act\n",
            "정의: (baseball) a hit that flies up in the air\n",
            "표제어: ['fly', 'fly_ball']\n",
            "##### name: fly.n.05 #####\n",
            "POS: noun.artifact\n",
            "정의: fisherman's lure consisting of a fishhook decorated to look like an insect\n",
            "표제어: ['fly']\n",
            "##### name: fly.v.01 #####\n",
            "POS: verb.motion\n",
            "정의: travel through the air; be airborne\n",
            "표제어: ['fly', 'wing']\n",
            "##### name: fly.v.02 #####\n",
            "POS: verb.motion\n",
            "정의: move quickly or suddenly\n",
            "표제어: ['fly']\n",
            "##### name: fly.v.03 #####\n",
            "POS: verb.motion\n",
            "정의: operate an airplane\n",
            "표제어: ['fly', 'aviate', 'pilot']\n",
            "##### name: fly.v.04 #####\n",
            "POS: verb.contact\n",
            "정의: transport by aeroplane\n",
            "표제어: ['fly']\n",
            "##### name: fly.v.05 #####\n",
            "POS: verb.motion\n",
            "정의: cause to fly or float\n",
            "표제어: ['fly']\n",
            "##### name: fly.v.06 #####\n",
            "POS: verb.motion\n",
            "정의: be dispersed or disseminated\n",
            "표제어: ['fly']\n",
            "##### name: fly.v.07 #####\n",
            "POS: verb.change\n",
            "정의: change quickly from one emotional state to another\n",
            "표제어: ['fly']\n",
            "##### name: fly.v.08 #####\n",
            "POS: verb.motion\n",
            "정의: pass away rapidly\n",
            "표제어: ['fly', 'fell', 'vanish']\n",
            "##### name: fly.v.09 #####\n",
            "POS: verb.motion\n",
            "정의: travel in an airplane\n",
            "표제어: ['fly']\n",
            "##### name: fly.v.10 #####\n",
            "POS: verb.perception\n",
            "정의: display in the air or cause to float\n",
            "표제어: ['fly']\n",
            "##### name: flee.v.01 #####\n",
            "POS: verb.motion\n",
            "정의: run away quickly\n",
            "표제어: ['flee', 'fly', 'take_flight']\n",
            "##### name: fly.v.12 #####\n",
            "POS: verb.motion\n",
            "정의: travel over (an area of land or sea) in an aircraft\n",
            "표제어: ['fly']\n",
            "##### name: fly.v.13 #####\n",
            "POS: verb.contact\n",
            "정의: hit a fly\n",
            "표제어: ['fly']\n",
            "##### name: vanish.v.05 #####\n",
            "POS: verb.change\n",
            "정의: decrease rapidly and disappear\n",
            "표제어: ['vanish', 'fly', 'vaporize']\n",
            "##### name: fly.s.01 #####\n",
            "POS: adj.all\n",
            "정의: (British informal) not to be deceived or hoodwinked\n",
            "표제어: ['fly']\n"
          ]
        }
      ]
    },
    {
      "cell_type": "markdown",
      "source": [
        "- 어휘간의 유사도"
      ],
      "metadata": {
        "id": "RvQoDOoTk3im"
      }
    },
    {
      "cell_type": "code",
      "source": [
        "# 단어, 품사를 모를 경우 synsets()으로 알아냄\n",
        "for synset in wordnet.synsets('tiger'):\n",
        "    print(synset.name(), synset.definition())"
      ],
      "metadata": {
        "colab": {
          "base_uri": "https://localhost:8080/"
        },
        "id": "wScqOjNakQrc",
        "outputId": "0a8704ef-476e-44ab-83ec-3d563bda0ce2"
      },
      "execution_count": 14,
      "outputs": [
        {
          "output_type": "stream",
          "name": "stdout",
          "text": [
            "tiger.n.01 a fierce or audacious person\n",
            "tiger.n.02 large feline of forests in most of Asia having a tawny coat with black stripes; endangered\n"
          ]
        }
      ]
    },
    {
      "cell_type": "code",
      "source": [
        "# 단어, 품사를 아는 경우에는 synset()\n",
        "tiger = wordnet.synset('tiger.n.02')\n",
        "tree = wordnet.synset('tree.n.01')\n",
        "lion = wordnet.synset('lion.n.01')\n",
        "cat = wordnet.synset('cat.n.01')\n",
        "dog = wordnet.synset('dog.n.01')"
      ],
      "metadata": {
        "id": "2M966uL3lNH7"
      },
      "execution_count": 16,
      "outputs": []
    },
    {
      "cell_type": "code",
      "source": [
        "# 단어간의 유사도\n",
        "tiger.path_similarity(lion), tiger.path_similarity(dog), tiger.path_similarity(tree)"
      ],
      "metadata": {
        "colab": {
          "base_uri": "https://localhost:8080/"
        },
        "id": "qBDA2F9Zl5-h",
        "outputId": "d2861e47-eb04-4c49-b39a-0b485646be84"
      },
      "execution_count": 17,
      "outputs": [
        {
          "output_type": "execute_result",
          "data": {
            "text/plain": [
              "(0.3333333333333333, 0.16666666666666666, 0.07142857142857142)"
            ]
          },
          "metadata": {},
          "execution_count": 17
        }
      ]
    },
    {
      "cell_type": "code",
      "source": [
        "# 5개 단어간의 유사도\n",
        "similarities = []\n",
        "entities = [tree, lion, tiger, cat, dog]\n",
        "for entity in entities:\n",
        "    similarity = [entity.path_similarity(another) for another in entities]\n",
        "    similarities.append(similarity)"
      ],
      "metadata": {
        "id": "H7RK0owPmLzn"
      },
      "execution_count": 18,
      "outputs": []
    },
    {
      "cell_type": "code",
      "source": [
        "df = pd.DataFrame(similarities, columns=['tree', 'lion', 'tiger', 'cat', 'dog'],\n",
        "                  index=['tree', 'lion', 'tiger', 'cat', 'dog'])\n",
        "df"
      ],
      "metadata": {
        "colab": {
          "base_uri": "https://localhost:8080/",
          "height": 206
        },
        "id": "9Ts-oxJam-aP",
        "outputId": "dcfbd294-acf0-45bf-be81-fd30f56d090e"
      },
      "execution_count": 20,
      "outputs": [
        {
          "output_type": "execute_result",
          "data": {
            "text/plain": [
              "           tree      lion     tiger       cat       dog\n",
              "tree   1.000000  0.071429  0.071429  0.076923  0.125000\n",
              "lion   0.071429  1.000000  0.333333  0.250000  0.166667\n",
              "tiger  0.071429  0.333333  1.000000  0.250000  0.166667\n",
              "cat    0.076923  0.250000  0.250000  1.000000  0.200000\n",
              "dog    0.125000  0.166667  0.166667  0.200000  1.000000"
            ],
            "text/html": [
              "\n",
              "  <div id=\"df-f99092da-bd66-48a7-9eb7-232e1b7c92e6\">\n",
              "    <div class=\"colab-df-container\">\n",
              "      <div>\n",
              "<style scoped>\n",
              "    .dataframe tbody tr th:only-of-type {\n",
              "        vertical-align: middle;\n",
              "    }\n",
              "\n",
              "    .dataframe tbody tr th {\n",
              "        vertical-align: top;\n",
              "    }\n",
              "\n",
              "    .dataframe thead th {\n",
              "        text-align: right;\n",
              "    }\n",
              "</style>\n",
              "<table border=\"1\" class=\"dataframe\">\n",
              "  <thead>\n",
              "    <tr style=\"text-align: right;\">\n",
              "      <th></th>\n",
              "      <th>tree</th>\n",
              "      <th>lion</th>\n",
              "      <th>tiger</th>\n",
              "      <th>cat</th>\n",
              "      <th>dog</th>\n",
              "    </tr>\n",
              "  </thead>\n",
              "  <tbody>\n",
              "    <tr>\n",
              "      <th>tree</th>\n",
              "      <td>1.000000</td>\n",
              "      <td>0.071429</td>\n",
              "      <td>0.071429</td>\n",
              "      <td>0.076923</td>\n",
              "      <td>0.125000</td>\n",
              "    </tr>\n",
              "    <tr>\n",
              "      <th>lion</th>\n",
              "      <td>0.071429</td>\n",
              "      <td>1.000000</td>\n",
              "      <td>0.333333</td>\n",
              "      <td>0.250000</td>\n",
              "      <td>0.166667</td>\n",
              "    </tr>\n",
              "    <tr>\n",
              "      <th>tiger</th>\n",
              "      <td>0.071429</td>\n",
              "      <td>0.333333</td>\n",
              "      <td>1.000000</td>\n",
              "      <td>0.250000</td>\n",
              "      <td>0.166667</td>\n",
              "    </tr>\n",
              "    <tr>\n",
              "      <th>cat</th>\n",
              "      <td>0.076923</td>\n",
              "      <td>0.250000</td>\n",
              "      <td>0.250000</td>\n",
              "      <td>1.000000</td>\n",
              "      <td>0.200000</td>\n",
              "    </tr>\n",
              "    <tr>\n",
              "      <th>dog</th>\n",
              "      <td>0.125000</td>\n",
              "      <td>0.166667</td>\n",
              "      <td>0.166667</td>\n",
              "      <td>0.200000</td>\n",
              "      <td>1.000000</td>\n",
              "    </tr>\n",
              "  </tbody>\n",
              "</table>\n",
              "</div>\n",
              "      <button class=\"colab-df-convert\" onclick=\"convertToInteractive('df-f99092da-bd66-48a7-9eb7-232e1b7c92e6')\"\n",
              "              title=\"Convert this dataframe to an interactive table.\"\n",
              "              style=\"display:none;\">\n",
              "        \n",
              "  <svg xmlns=\"http://www.w3.org/2000/svg\" height=\"24px\"viewBox=\"0 0 24 24\"\n",
              "       width=\"24px\">\n",
              "    <path d=\"M0 0h24v24H0V0z\" fill=\"none\"/>\n",
              "    <path d=\"M18.56 5.44l.94 2.06.94-2.06 2.06-.94-2.06-.94-.94-2.06-.94 2.06-2.06.94zm-11 1L8.5 8.5l.94-2.06 2.06-.94-2.06-.94L8.5 2.5l-.94 2.06-2.06.94zm10 10l.94 2.06.94-2.06 2.06-.94-2.06-.94-.94-2.06-.94 2.06-2.06.94z\"/><path d=\"M17.41 7.96l-1.37-1.37c-.4-.4-.92-.59-1.43-.59-.52 0-1.04.2-1.43.59L10.3 9.45l-7.72 7.72c-.78.78-.78 2.05 0 2.83L4 21.41c.39.39.9.59 1.41.59.51 0 1.02-.2 1.41-.59l7.78-7.78 2.81-2.81c.8-.78.8-2.07 0-2.86zM5.41 20L4 18.59l7.72-7.72 1.47 1.35L5.41 20z\"/>\n",
              "  </svg>\n",
              "      </button>\n",
              "      \n",
              "  <style>\n",
              "    .colab-df-container {\n",
              "      display:flex;\n",
              "      flex-wrap:wrap;\n",
              "      gap: 12px;\n",
              "    }\n",
              "\n",
              "    .colab-df-convert {\n",
              "      background-color: #E8F0FE;\n",
              "      border: none;\n",
              "      border-radius: 50%;\n",
              "      cursor: pointer;\n",
              "      display: none;\n",
              "      fill: #1967D2;\n",
              "      height: 32px;\n",
              "      padding: 0 0 0 0;\n",
              "      width: 32px;\n",
              "    }\n",
              "\n",
              "    .colab-df-convert:hover {\n",
              "      background-color: #E2EBFA;\n",
              "      box-shadow: 0px 1px 2px rgba(60, 64, 67, 0.3), 0px 1px 3px 1px rgba(60, 64, 67, 0.15);\n",
              "      fill: #174EA6;\n",
              "    }\n",
              "\n",
              "    [theme=dark] .colab-df-convert {\n",
              "      background-color: #3B4455;\n",
              "      fill: #D2E3FC;\n",
              "    }\n",
              "\n",
              "    [theme=dark] .colab-df-convert:hover {\n",
              "      background-color: #434B5C;\n",
              "      box-shadow: 0px 1px 3px 1px rgba(0, 0, 0, 0.15);\n",
              "      filter: drop-shadow(0px 1px 2px rgba(0, 0, 0, 0.3));\n",
              "      fill: #FFFFFF;\n",
              "    }\n",
              "  </style>\n",
              "\n",
              "      <script>\n",
              "        const buttonEl =\n",
              "          document.querySelector('#df-f99092da-bd66-48a7-9eb7-232e1b7c92e6 button.colab-df-convert');\n",
              "        buttonEl.style.display =\n",
              "          google.colab.kernel.accessAllowed ? 'block' : 'none';\n",
              "\n",
              "        async function convertToInteractive(key) {\n",
              "          const element = document.querySelector('#df-f99092da-bd66-48a7-9eb7-232e1b7c92e6');\n",
              "          const dataTable =\n",
              "            await google.colab.kernel.invokeFunction('convertToInteractive',\n",
              "                                                     [key], {});\n",
              "          if (!dataTable) return;\n",
              "\n",
              "          const docLinkHtml = 'Like what you see? Visit the ' +\n",
              "            '<a target=\"_blank\" href=https://colab.research.google.com/notebooks/data_table.ipynb>data table notebook</a>'\n",
              "            + ' to learn more about interactive tables.';\n",
              "          element.innerHTML = '';\n",
              "          dataTable['output_type'] = 'display_data';\n",
              "          await google.colab.output.renderOutput(dataTable, element);\n",
              "          const docLink = document.createElement('div');\n",
              "          docLink.innerHTML = docLinkHtml;\n",
              "          element.appendChild(docLink);\n",
              "        }\n",
              "      </script>\n",
              "    </div>\n",
              "  </div>\n",
              "  "
            ]
          },
          "metadata": {},
          "execution_count": 20
        }
      ]
    },
    {
      "cell_type": "markdown",
      "source": [
        "- SentiSynset 클래스"
      ],
      "metadata": {
        "id": "Ej_Vqze7niCL"
      }
    },
    {
      "cell_type": "code",
      "source": [
        "import nltk\n",
        "nltk.download('sentiwordnet')"
      ],
      "metadata": {
        "colab": {
          "base_uri": "https://localhost:8080/"
        },
        "id": "J2N3_ypUn4V1",
        "outputId": "8da2c63c-2c27-434e-b9be-3a78503d48ce"
      },
      "execution_count": 22,
      "outputs": [
        {
          "output_type": "stream",
          "name": "stdout",
          "text": [
            "[nltk_data] Downloading package sentiwordnet to /root/nltk_data...\n",
            "[nltk_data]   Unzipping corpora/sentiwordnet.zip.\n"
          ]
        },
        {
          "output_type": "execute_result",
          "data": {
            "text/plain": [
              "True"
            ]
          },
          "metadata": {},
          "execution_count": 22
        }
      ]
    },
    {
      "cell_type": "code",
      "source": [
        "from nltk.corpus import sentiwordnet\n",
        "senti_synsets = list(sentiwordnet.senti_synsets('slow'))"
      ],
      "metadata": {
        "id": "4bkIlA5HnVIM"
      },
      "execution_count": 23,
      "outputs": []
    },
    {
      "cell_type": "code",
      "source": [
        "senti_synsets"
      ],
      "metadata": {
        "colab": {
          "base_uri": "https://localhost:8080/"
        },
        "id": "YLsW5-gNn0xC",
        "outputId": "b59087a3-cee6-46b4-c966-bd5f1e20d104"
      },
      "execution_count": 24,
      "outputs": [
        {
          "output_type": "execute_result",
          "data": {
            "text/plain": [
              "[SentiSynset('decelerate.v.01'),\n",
              " SentiSynset('slow.v.02'),\n",
              " SentiSynset('slow.v.03'),\n",
              " SentiSynset('slow.a.01'),\n",
              " SentiSynset('slow.a.02'),\n",
              " SentiSynset('dense.s.04'),\n",
              " SentiSynset('slow.a.04'),\n",
              " SentiSynset('boring.s.01'),\n",
              " SentiSynset('dull.s.08'),\n",
              " SentiSynset('slowly.r.01'),\n",
              " SentiSynset('behind.r.03')]"
            ]
          },
          "metadata": {},
          "execution_count": 24
        }
      ]
    },
    {
      "cell_type": "code",
      "source": [
        "# father 단어의 긍정 / 부정 / 객관성 지수\n",
        "father = sentiwordnet.senti_synset('father.n.01')\n",
        "father.pos_score(), father.neg_score(), father.obj_score()"
      ],
      "metadata": {
        "colab": {
          "base_uri": "https://localhost:8080/"
        },
        "id": "6O2geSZxoKnN",
        "outputId": "9d415673-434f-4839-cc83-2a21cf17f83e"
      },
      "execution_count": 25,
      "outputs": [
        {
          "output_type": "execute_result",
          "data": {
            "text/plain": [
              "(0.0, 0.0, 1.0)"
            ]
          },
          "metadata": {},
          "execution_count": 25
        }
      ]
    },
    {
      "cell_type": "code",
      "source": [
        "# mother 단어의 긍정 / 부정 / 객관성 지수\n",
        "mother = sentiwordnet.senti_synset('mother.n.01')\n",
        "mother.pos_score(), mother.neg_score(), mother.obj_score()"
      ],
      "metadata": {
        "colab": {
          "base_uri": "https://localhost:8080/"
        },
        "id": "_V0pDmLOo0UB",
        "outputId": "6f4cd646-f7c4-4ee7-9dc0-6ba9451e271d"
      },
      "execution_count": 26,
      "outputs": [
        {
          "output_type": "execute_result",
          "data": {
            "text/plain": [
              "(0.0, 0.0, 1.0)"
            ]
          },
          "metadata": {},
          "execution_count": 26
        }
      ]
    },
    {
      "cell_type": "code",
      "source": [
        "# fabulous 단어의 긍정 / 부정 / 객관성 지수\n",
        "fabulous = sentiwordnet.senti_synset('fabulous.a.01')\n",
        "fabulous.pos_score(), fabulous.neg_score(), fabulous.obj_score()"
      ],
      "metadata": {
        "colab": {
          "base_uri": "https://localhost:8080/"
        },
        "id": "pSB3I6MUo8eJ",
        "outputId": "9fc32ac0-a0d6-4116-ce24-3572535ac7e7"
      },
      "execution_count": 27,
      "outputs": [
        {
          "output_type": "execute_result",
          "data": {
            "text/plain": [
              "(0.875, 0.125, 0.0)"
            ]
          },
          "metadata": {},
          "execution_count": 27
        }
      ]
    },
    {
      "cell_type": "code",
      "source": [
        "# love 단어의 긍정 / 부정 / 객관성 지수\n",
        "love = sentiwordnet.senti_synset('love.v.01')\n",
        "love.pos_score(), love.neg_score(), love.obj_score()"
      ],
      "metadata": {
        "colab": {
          "base_uri": "https://localhost:8080/"
        },
        "id": "698-S6aipIFV",
        "outputId": "46df0228-ceec-45f3-a339-11121da7faea"
      },
      "execution_count": 28,
      "outputs": [
        {
          "output_type": "execute_result",
          "data": {
            "text/plain": [
              "(0.5, 0.0, 0.5)"
            ]
          },
          "metadata": {},
          "execution_count": 28
        }
      ]
    },
    {
      "cell_type": "code",
      "source": [
        "wordnet.NOUN, wordnet.ADJ, wordnet.ADV, wordnet.VERB"
      ],
      "metadata": {
        "colab": {
          "base_uri": "https://localhost:8080/"
        },
        "id": "hJLoN2AwpS5I",
        "outputId": "70e1d522-615c-441f-9a8e-2e38f11b49c5"
      },
      "execution_count": 29,
      "outputs": [
        {
          "output_type": "execute_result",
          "data": {
            "text/plain": [
              "('n', 'a', 'r', 'v')"
            ]
          },
          "metadata": {},
          "execution_count": 29
        }
      ]
    },
    {
      "cell_type": "markdown",
      "source": [
        "- 감성지수 계산"
      ],
      "metadata": {
        "id": "LfZgcBfQp8eg"
      }
    },
    {
      "cell_type": "code",
      "source": [
        "nltk.download('punkt')"
      ],
      "metadata": {
        "colab": {
          "base_uri": "https://localhost:8080/"
        },
        "id": "yyEZ7RrhqR_k",
        "outputId": "e1a47123-dfe2-4f6e-a91d-561d55495d94"
      },
      "execution_count": 32,
      "outputs": [
        {
          "output_type": "stream",
          "name": "stdout",
          "text": [
            "[nltk_data] Downloading package punkt to /root/nltk_data...\n",
            "[nltk_data]   Unzipping tokenizers/punkt.zip.\n"
          ]
        },
        {
          "output_type": "execute_result",
          "data": {
            "text/plain": [
              "True"
            ]
          },
          "metadata": {},
          "execution_count": 32
        }
      ]
    },
    {
      "cell_type": "code",
      "source": [
        "from nltk import word_tokenize, pos_tag\n",
        "sentence = \"It's good to see you again.\"\n",
        "word_list = word_tokenize(sentence)\n",
        "word_list"
      ],
      "metadata": {
        "colab": {
          "base_uri": "https://localhost:8080/"
        },
        "id": "gP4mjVjNpmiT",
        "outputId": "6902b83b-76a5-45f9-acf3-079ba756db32"
      },
      "execution_count": 33,
      "outputs": [
        {
          "output_type": "execute_result",
          "data": {
            "text/plain": [
              "['It', \"'s\", 'good', 'to', 'see', 'you', 'again', '.']"
            ]
          },
          "metadata": {},
          "execution_count": 33
        }
      ]
    },
    {
      "cell_type": "code",
      "source": [
        "nltk.download('averaged_perceptron_tagger')"
      ],
      "metadata": {
        "colab": {
          "base_uri": "https://localhost:8080/"
        },
        "id": "gPjTu-j1qgqr",
        "outputId": "de8137e0-a4ea-46f3-ccd4-7d965a890bcf"
      },
      "execution_count": 35,
      "outputs": [
        {
          "output_type": "stream",
          "name": "stdout",
          "text": [
            "[nltk_data] Downloading package averaged_perceptron_tagger to\n",
            "[nltk_data]     /root/nltk_data...\n",
            "[nltk_data]   Unzipping taggers/averaged_perceptron_tagger.zip.\n"
          ]
        },
        {
          "output_type": "execute_result",
          "data": {
            "text/plain": [
              "True"
            ]
          },
          "metadata": {},
          "execution_count": 35
        }
      ]
    },
    {
      "cell_type": "code",
      "source": [
        "pos_tag(word_list)"
      ],
      "metadata": {
        "colab": {
          "base_uri": "https://localhost:8080/"
        },
        "id": "n-QydHV5qNoe",
        "outputId": "ba273b88-53cd-4379-e562-7c4f26d903f8"
      },
      "execution_count": 36,
      "outputs": [
        {
          "output_type": "execute_result",
          "data": {
            "text/plain": [
              "[('It', 'PRP'),\n",
              " (\"'s\", 'VBZ'),\n",
              " ('good', 'JJ'),\n",
              " ('to', 'TO'),\n",
              " ('see', 'VB'),\n",
              " ('you', 'PRP'),\n",
              " ('again', 'RB'),\n",
              " ('.', '.')]"
            ]
          },
          "metadata": {},
          "execution_count": 36
        }
      ]
    },
    {
      "cell_type": "code",
      "source": [
        "def penn_to_wordnet(tag):\n",
        "    if tag.startswith('N'):\n",
        "        return wordnet.NOUN\n",
        "    if tag.startswith('J'):\n",
        "        return wordnet.ADJ\n",
        "    if tag.startswith('R'):\n",
        "        return wordnet.ADV\n",
        "    if tag.startswith('V'):\n",
        "        return wordnet.VERB"
      ],
      "metadata": {
        "id": "a0VUASxsqeWh"
      },
      "execution_count": 37,
      "outputs": []
    },
    {
      "cell_type": "code",
      "source": [
        "for word, pos in pos_tag(word_list):\n",
        "    print(word, penn_to_wordnet(pos))"
      ],
      "metadata": {
        "colab": {
          "base_uri": "https://localhost:8080/"
        },
        "id": "k095HPTarXFQ",
        "outputId": "4ebe9103-792f-4fe8-87f1-fc49f3eb0e46"
      },
      "execution_count": 38,
      "outputs": [
        {
          "output_type": "stream",
          "name": "stdout",
          "text": [
            "It None\n",
            "'s v\n",
            "good a\n",
            "to None\n",
            "see v\n",
            "you None\n",
            "again r\n",
            ". None\n"
          ]
        }
      ]
    },
    {
      "cell_type": "markdown",
      "source": [
        "- Sentence로부터 감성지수를 계산하는 과정"
      ],
      "metadata": {
        "id": "xnyleMndsGGr"
      }
    },
    {
      "cell_type": "code",
      "source": [
        "sentence = \"It's good to see you again.\"\n",
        "word_list = [word for word in word_tokenize(sentence) if len(word) > 2]\n",
        "word_list"
      ],
      "metadata": {
        "colab": {
          "base_uri": "https://localhost:8080/"
        },
        "id": "Yfdg-UEXrxlw",
        "outputId": "96da308a-2059-4566-caf6-af96e49fa152"
      },
      "execution_count": 46,
      "outputs": [
        {
          "output_type": "execute_result",
          "data": {
            "text/plain": [
              "['good', 'see', 'you', 'again']"
            ]
          },
          "metadata": {},
          "execution_count": 46
        }
      ]
    },
    {
      "cell_type": "code",
      "source": [
        "for word, pos in pos_tag(word_list):\n",
        "    wn_tag = penn_to_wordnet(pos)\n",
        "    if wn_tag:              # None이 아닌 'n', 'a', 'r', 'v'\n",
        "        synsets = list(sentiwordnet.senti_synsets(word, wn_tag))\n",
        "        synset = synsets[0]\n",
        "        print(synset)"
      ],
      "metadata": {
        "colab": {
          "base_uri": "https://localhost:8080/"
        },
        "id": "aFGZGTi5sjx_",
        "outputId": "ba753833-44fb-463c-fa43-1c210e1f3f54"
      },
      "execution_count": 47,
      "outputs": [
        {
          "output_type": "stream",
          "name": "stdout",
          "text": [
            "<good.a.01: PosScore=0.75 NegScore=0.0>\n",
            "<see.n.01: PosScore=0.0 NegScore=0.0>\n",
            "<again.r.01: PosScore=0.0 NegScore=0.0>\n"
          ]
        }
      ]
    },
    {
      "cell_type": "code",
      "source": [
        "sentiment = 0\n",
        "for word, pos in pos_tag(word_list):\n",
        "    wn_tag = penn_to_wordnet(pos)\n",
        "    if wn_tag:              # None이 아닌 'n', 'a', 'r', 'v'\n",
        "        synsets = list(sentiwordnet.senti_synsets(word, wn_tag))\n",
        "        synset = synsets[0]\n",
        "        sentiment += synset.pos_score() - synset.neg_score()\n",
        "sentiment"
      ],
      "metadata": {
        "colab": {
          "base_uri": "https://localhost:8080/"
        },
        "id": "rMe8HWKGtTQH",
        "outputId": "7c126f52-f2ba-40e0-f0da-4f3ea53a4535"
      },
      "execution_count": 48,
      "outputs": [
        {
          "output_type": "execute_result",
          "data": {
            "text/plain": [
              "0.75"
            ]
          },
          "metadata": {},
          "execution_count": 48
        }
      ]
    },
    {
      "cell_type": "code",
      "source": [
        "from nltk import WordNetLemmatizer\n",
        "lemmatizer = WordNetLemmatizer()"
      ],
      "metadata": {
        "id": "jelFVsUTtyqY"
      },
      "execution_count": 51,
      "outputs": []
    },
    {
      "cell_type": "code",
      "source": [
        "# 표제어 추출까지 고려\n",
        "sentiment = 0\n",
        "for word, pos in pos_tag(word_list):\n",
        "    wn_tag = penn_to_wordnet(pos)\n",
        "    if wn_tag:              # None이 아닌 'n', 'a', 'r', 'v'\n",
        "        lemma = lemmatizer.lemmatize(word, wn_tag)\n",
        "        synsets = list(sentiwordnet.senti_synsets(lemma, wn_tag))\n",
        "        synset = synsets[0]\n",
        "        sentiment += synset.pos_score() - synset.neg_score()\n",
        "sentiment"
      ],
      "metadata": {
        "colab": {
          "base_uri": "https://localhost:8080/"
        },
        "id": "Jvr3ptgcw5YE",
        "outputId": "77747b47-5532-417e-96d6-badc94030a08"
      },
      "execution_count": 52,
      "outputs": [
        {
          "output_type": "execute_result",
          "data": {
            "text/plain": [
              "0.75"
            ]
          },
          "metadata": {},
          "execution_count": 52
        }
      ]
    },
    {
      "cell_type": "markdown",
      "source": [
        "- 도큐먼트에서 감성지수를 계산하는 과정 및 함수"
      ],
      "metadata": {
        "id": "yKIxiOV9xb0E"
      }
    },
    {
      "cell_type": "code",
      "source": [
        "from nltk import sent_tokenize\n",
        "document ='''\n",
        "This is a movie made purely to satisfy the fans and there should be no doubt about that.\n",
        "No Way Home, in my opinion, is even better than Homecoming and Far From Home,\n",
        "and pretty much one of the best MCU movies of all time.\n",
        "It's a simple story, but the execution is fantastic. Even the smallest of surprises have a huge impact,\n",
        "and I could feel that in the theatre as I joined several other Spider-Man fans cheer out for both heroes and villains.\n",
        "The action sequences were brilliant; seeing them in 3D is totally worth the price of admission.\n",
        "Every actor delivered a believable, realistic performance, and especially our lead actor Tom Holland.\n",
        "The visual effects too were top notch and the editing was stupendous.\n",
        "Two and a half hours flew by real quick while watching this popcorn action entertainer.\n",
        "It won't be fair to reveal anything, so here I conclude my review,\n",
        "and recommend you to check out this new world of Spidey-ness on the big screen and in 3D.\n",
        "And once you've seen it, please don't spoil it for others, just like you won't want it spoiled for yourself.\n",
        "'''"
      ],
      "metadata": {
        "id": "VoLQCD6mxKO-"
      },
      "execution_count": 53,
      "outputs": []
    },
    {
      "cell_type": "code",
      "source": [
        "sentiment = 0.0\n",
        "for sentence in sent_tokenize(document):\n",
        "    word_list = [word for word in word_tokenize(sentence) if len(word) > 2]\n",
        "    for word, pos in pos_tag(word_list):\n",
        "        wn_tag = penn_to_wordnet(pos)\n",
        "        if wn_tag:              # None이 아닌 'n', 'a', 'r', 'v'\n",
        "            lemma = lemmatizer.lemmatize(word, wn_tag)\n",
        "            synsets = list(sentiwordnet.senti_synsets(lemma, wn_tag))\n",
        "            if not synsets:\n",
        "                print(word)\n",
        "                continue\n",
        "            synset = synsets[0]\n",
        "            sentiment += synset.pos_score() - synset.neg_score()\n",
        "print('긍정'if sentiment >= 0 else '부정')"
      ],
      "metadata": {
        "colab": {
          "base_uri": "https://localhost:8080/"
        },
        "id": "BglIunWTx3Lx",
        "outputId": "b1c3e9c3-24a1-400b-f95c-347b7ee41abf"
      },
      "execution_count": 54,
      "outputs": [
        {
          "output_type": "stream",
          "name": "stdout",
          "text": [
            "Homecoming\n",
            "From\n",
            "MCU\n",
            "Spider-Man\n",
            "lead\n",
            "popcorn\n",
            "n't\n",
            "anything\n",
            "Spidey-ness\n",
            "'ve\n",
            "n't\n",
            "others\n",
            "n't\n",
            "긍정\n"
          ]
        }
      ]
    },
    {
      "cell_type": "code",
      "source": [
        "def swn_polarity(text):\n",
        "    lemmatizer = WordNetLemmatizer()\n",
        "    sentiment = 0.0\n",
        "    for sentence in sent_tokenize(document):\n",
        "        word_list = [word for word in word_tokenize(sentence) if len(word) > 2]\n",
        "        for word, pos in pos_tag(word_list):\n",
        "            wn_tag = penn_to_wordnet(pos)\n",
        "            if wn_tag:              # None이 아닌 'n', 'a', 'r', 'v'\n",
        "                lemma = lemmatizer.lemmatize(word, wn_tag)\n",
        "                synsets = list(sentiwordnet.senti_synsets(lemma, wn_tag))\n",
        "                if not synsets:\n",
        "                    # print(word)\n",
        "                    continue\n",
        "                synset = synsets[0]\n",
        "                sentiment += synset.pos_score() - synset.neg_score()\n",
        "    return 1 if sentiment >= 0 else 0"
      ],
      "metadata": {
        "id": "EyNuVzKEy4m2"
      },
      "execution_count": 63,
      "outputs": []
    },
    {
      "cell_type": "markdown",
      "source": [
        "- IMDB 영화평 감성분석"
      ],
      "metadata": {
        "id": "_AH2If0fz80T"
      }
    },
    {
      "cell_type": "code",
      "source": [
        "df = pd.read_csv('labeledTrainData.tsv', sep='\\t', quoting=3)     # quoting=3 => QUOTE_NONE\n",
        "df.head(3)\n",
        "# <br /> 태그 공백으로 변환\n",
        "df.review = df.review.str.replace('<br />', ' ')"
      ],
      "metadata": {
        "id": "bmBRoEo60Frq"
      },
      "execution_count": 64,
      "outputs": []
    },
    {
      "cell_type": "code",
      "source": [
        "# 구둣점, 숫자 제거 => 영문자가 아닌 글자는 공백으로 변환\n",
        "import warnings\n",
        "warnings.filterwarnings('ignore')\n",
        "df.review = df.review.str.replace('[^A-Za-z]', ' ').str.strip()"
      ],
      "metadata": {
        "id": "jLLkh_eM0e1N"
      },
      "execution_count": 65,
      "outputs": []
    },
    {
      "cell_type": "code",
      "source": [
        "df.shape"
      ],
      "metadata": {
        "colab": {
          "base_uri": "https://localhost:8080/"
        },
        "id": "0eWLci-F0h3n",
        "outputId": "fc8760f8-51ab-4762-8021-621822605d88"
      },
      "execution_count": 66,
      "outputs": [
        {
          "output_type": "execute_result",
          "data": {
            "text/plain": [
              "(25000, 3)"
            ]
          },
          "metadata": {},
          "execution_count": 66
        }
      ]
    },
    {
      "cell_type": "code",
      "source": [
        "df = df.head(10000)"
      ],
      "metadata": {
        "id": "FhCbVYxZ0kZM"
      },
      "execution_count": 67,
      "outputs": []
    },
    {
      "cell_type": "code",
      "source": [
        "%time df['pred'] = df.review.apply(lambda x: swn_polarity(x))"
      ],
      "metadata": {
        "colab": {
          "base_uri": "https://localhost:8080/"
        },
        "id": "XOthPow70ucf",
        "outputId": "2133f06a-0adb-401f-aa32-dd514d345230"
      },
      "execution_count": 68,
      "outputs": [
        {
          "output_type": "stream",
          "name": "stdout",
          "text": [
            "CPU times: user 3min 14s, sys: 1.94 s, total: 3min 16s\n",
            "Wall time: 3min 17s\n"
          ]
        }
      ]
    },
    {
      "cell_type": "code",
      "source": [
        "# 정확도 계산\n",
        "from sklearn.metrics import accuracy_score\n",
        "accuracy_score(df.sentiment, df.pred)"
      ],
      "metadata": {
        "colab": {
          "base_uri": "https://localhost:8080/"
        },
        "id": "_dGdCsDn04EE",
        "outputId": "f09e6ad5-7ce9-46dd-a107-937818b92ddb"
      },
      "execution_count": 69,
      "outputs": [
        {
          "output_type": "execute_result",
          "data": {
            "text/plain": [
              "0.5053"
            ]
          },
          "metadata": {},
          "execution_count": 69
        }
      ]
    },
    {
      "cell_type": "code",
      "source": [
        "def swn_polarity(text):\n",
        "    # 감성 지수 초기화 \n",
        "    sentiment = 0.0\n",
        "    tokens_count = 0\n",
        "    \n",
        "    lemmatizer = WordNetLemmatizer()\n",
        "    # 분해된 문장별로 단어 토큰 -> 품사 태깅 후에 SentiSynset 생성 -> 감성 지수 합산 \n",
        "    for raw_sentence in sent_tokenize(text):\n",
        "        # NTLK 기반의 품사 태깅 문장 추출  \n",
        "        word_list = [word for word in word_tokenize(raw_sentence) if len(word) > 2]\n",
        "        tagged_sentence = pos_tag(word_list)\n",
        "        for word, tag in tagged_sentence:\n",
        "            # WordNet 기반 품사 태깅과 어근 추출\n",
        "            wn_tag = penn_to_wordnet(tag)\n",
        "            if wn_tag not in (wordnet.NOUN, wordnet.ADJ, wordnet.ADV, wordnet.VERB):\n",
        "                continue                   \n",
        "            lemma = lemmatizer.lemmatize(word, pos=wn_tag)\n",
        "            if not lemma:\n",
        "                continue\n",
        "            # 어근을 추출한 단어와 WordNet 기반 품사 태깅을 입력해 Synset 객체를 생성. \n",
        "            synsets = wordnet.synsets(lemma, pos=wn_tag)\n",
        "            if not synsets:\n",
        "                continue\n",
        "            # sentiwordnet의 감성 단어 분석으로 감성 synset 추출\n",
        "            # 모든 단어에 대해 긍정 감성 지수는 +로 부정 감성 지수는 -로 합산해 감성 지수 계산. \n",
        "            synset = synsets[0]\n",
        "            swn_synset = sentiwordnet.senti_synset(synset.name())\n",
        "            sentiment += swn_synset.pos_score() - swn_synset.neg_score()           \n",
        "            tokens_count += 1\n",
        "    \n",
        "    if not tokens_count:\n",
        "        return 0\n",
        "    \n",
        "    # 총 score가 0 이상일 경우 긍정(Positive) 1, 그렇지 않을 경우 부정(Negative) 0 반환\n",
        "    return 1 if sentiment >= 0 else 0"
      ],
      "metadata": {
        "id": "PbA0U4_v5WPl"
      },
      "execution_count": null,
      "outputs": []
    },
    {
      "cell_type": "markdown",
      "source": [
        "### VADER Lexicon을 이용한 감성 분석"
      ],
      "metadata": {
        "id": "FpzwoZHQ20Tb"
      }
    },
    {
      "cell_type": "code",
      "source": [
        "nltk.download('vader_lexicon')"
      ],
      "metadata": {
        "colab": {
          "base_uri": "https://localhost:8080/"
        },
        "id": "95f5r3eB3Y_c",
        "outputId": "932929e8-4b14-4425-b156-e3352fc399d2"
      },
      "execution_count": 72,
      "outputs": [
        {
          "output_type": "stream",
          "name": "stdout",
          "text": [
            "[nltk_data] Downloading package vader_lexicon to /root/nltk_data...\n"
          ]
        },
        {
          "output_type": "execute_result",
          "data": {
            "text/plain": [
              "True"
            ]
          },
          "metadata": {},
          "execution_count": 72
        }
      ]
    },
    {
      "cell_type": "code",
      "source": [
        "from nltk.sentiment.vader import SentimentIntensityAnalyzer\n",
        "\n",
        "senti_analyzer = SentimentIntensityAnalyzer()\n",
        "senti_analyzer.polarity_scores(df.review[0])"
      ],
      "metadata": {
        "colab": {
          "base_uri": "https://localhost:8080/"
        },
        "id": "T3-cT-J82KZ6",
        "outputId": "fd7234b9-6ddb-43c0-db2b-a115e12f8fc1"
      },
      "execution_count": 73,
      "outputs": [
        {
          "output_type": "execute_result",
          "data": {
            "text/plain": [
              "{'compound': -0.7943, 'neg': 0.13, 'neu': 0.743, 'pos': 0.127}"
            ]
          },
          "metadata": {},
          "execution_count": 73
        }
      ]
    },
    {
      "cell_type": "code",
      "source": [
        "def vader_polarity(document, threshold=0.1):\n",
        "    score = senti_analyzer.polarity_scores(document)\n",
        "    return 1 if score['compound'] > threshold else 0"
      ],
      "metadata": {
        "id": "kkjCNgWM3SkH"
      },
      "execution_count": 74,
      "outputs": []
    },
    {
      "cell_type": "code",
      "source": [
        "%time df['vader'] = df.review.apply(lambda x: vader_polarity(x, 0.1))"
      ],
      "metadata": {
        "colab": {
          "base_uri": "https://localhost:8080/"
        },
        "id": "yD3B_1Tn38u5",
        "outputId": "6a07ec27-bb2a-4c8d-8586-9cade412a208"
      },
      "execution_count": 75,
      "outputs": [
        {
          "output_type": "stream",
          "name": "stdout",
          "text": [
            "CPU times: user 30.9 s, sys: 410 ms, total: 31.4 s\n",
            "Wall time: 31.5 s\n"
          ]
        }
      ]
    },
    {
      "cell_type": "code",
      "source": [
        "accuracy_score(df.sentiment, df.vader)"
      ],
      "metadata": {
        "colab": {
          "base_uri": "https://localhost:8080/"
        },
        "id": "1PkBPW7D4Jl9",
        "outputId": "0eb97d2f-625e-4622-b42a-c043f5eca9a6"
      },
      "execution_count": 76,
      "outputs": [
        {
          "output_type": "execute_result",
          "data": {
            "text/plain": [
              "0.6997"
            ]
          },
          "metadata": {},
          "execution_count": 76
        }
      ]
    }
  ]
}