{
  "nbformat": 4,
  "nbformat_minor": 0,
  "metadata": {
    "colab": {
      "name": "01_BOW.ipynb",
      "provenance": [],
      "collapsed_sections": []
    },
    "kernelspec": {
      "name": "python3",
      "display_name": "Python 3"
    },
    "language_info": {
      "name": "python"
    }
  },
  "cells": [
    {
      "cell_type": "markdown",
      "source": [
        "# Bag of Words"
      ],
      "metadata": {
        "id": "dpmY8g95koru"
      }
    },
    {
      "cell_type": "markdown",
      "source": [
        "### 1. CountVectorizer"
      ],
      "metadata": {
        "id": "ftCxCiGhssvm"
      }
    },
    {
      "cell_type": "code",
      "execution_count": 25,
      "metadata": {
        "id": "DhmcIA4ykmNg"
      },
      "outputs": [],
      "source": [
        "from sklearn.feature_extraction.text import CountVectorizer\n",
        "text = 'The SMS Spam Collection is a set of SMS tagged messages that have been collected for SMS Spam research.'"
      ]
    },
    {
      "cell_type": "code",
      "source": [
        "cvect = CountVectorizer()\n",
        "cvect.get_params()"
      ],
      "metadata": {
        "colab": {
          "base_uri": "https://localhost:8080/"
        },
        "id": "svuqQAx8lBl3",
        "outputId": "59718638-0c6e-4f49-ce76-8407823d7283"
      },
      "execution_count": 26,
      "outputs": [
        {
          "output_type": "execute_result",
          "data": {
            "text/plain": [
              "{'analyzer': 'word',\n",
              " 'binary': False,\n",
              " 'decode_error': 'strict',\n",
              " 'dtype': numpy.int64,\n",
              " 'encoding': 'utf-8',\n",
              " 'input': 'content',\n",
              " 'lowercase': True,\n",
              " 'max_df': 1.0,\n",
              " 'max_features': None,\n",
              " 'min_df': 1,\n",
              " 'ngram_range': (1, 1),\n",
              " 'preprocessor': None,\n",
              " 'stop_words': None,\n",
              " 'strip_accents': None,\n",
              " 'token_pattern': '(?u)\\\\b\\\\w\\\\w+\\\\b',\n",
              " 'tokenizer': None,\n",
              " 'vocabulary': None}"
            ]
          },
          "metadata": {},
          "execution_count": 26
        }
      ]
    },
    {
      "cell_type": "code",
      "source": [
        "output = cvect.fit_transform([text])             # fit(학습)을 하기위해선 항상 리스트 형식으로 만들어 줘야 한다.\n",
        "output"
      ],
      "metadata": {
        "colab": {
          "base_uri": "https://localhost:8080/"
        },
        "id": "mOh-yMfalN66",
        "outputId": "bc74f19d-a470-464c-fbc8-771c5a98ff77"
      },
      "execution_count": 27,
      "outputs": [
        {
          "output_type": "execute_result",
          "data": {
            "text/plain": [
              "<1x15 sparse matrix of type '<class 'numpy.int64'>'\n",
              "\twith 15 stored elements in Compressed Sparse Row format>"
            ]
          },
          "metadata": {},
          "execution_count": 27
        }
      ]
    },
    {
      "cell_type": "code",
      "source": [
        "output.toarray()"
      ],
      "metadata": {
        "colab": {
          "base_uri": "https://localhost:8080/"
        },
        "id": "Nn3Fj71JlbtK",
        "outputId": "a55d2771-3225-4058-bf46-4695a6bbba8c"
      },
      "execution_count": 5,
      "outputs": [
        {
          "output_type": "execute_result",
          "data": {
            "text/plain": [
              "array([[1, 1, 1, 1, 1, 1, 1, 1, 1, 1, 3, 2, 1, 1, 1]])"
            ]
          },
          "metadata": {},
          "execution_count": 5
        }
      ]
    },
    {
      "cell_type": "code",
      "source": [
        "cvect.vocabulary_"
      ],
      "metadata": {
        "colab": {
          "base_uri": "https://localhost:8080/"
        },
        "id": "QZfDGWgSl6C4",
        "outputId": "25fc2425-920c-4a06-a33a-ad6ba16efb24"
      },
      "execution_count": 6,
      "outputs": [
        {
          "output_type": "execute_result",
          "data": {
            "text/plain": [
              "{'been': 0,\n",
              " 'collected': 1,\n",
              " 'collection': 2,\n",
              " 'for': 3,\n",
              " 'have': 4,\n",
              " 'is': 5,\n",
              " 'messages': 6,\n",
              " 'of': 7,\n",
              " 'research': 8,\n",
              " 'set': 9,\n",
              " 'sms': 10,\n",
              " 'spam': 11,\n",
              " 'tagged': 12,\n",
              " 'that': 13,\n",
              " 'the': 14}"
            ]
          },
          "metadata": {},
          "execution_count": 6
        }
      ]
    },
    {
      "cell_type": "markdown",
      "source": [
        "- 불용어 처리"
      ],
      "metadata": {
        "id": "IHShrhSRmW8Q"
      }
    },
    {
      "cell_type": "code",
      "source": [
        "# 자체 제거\n",
        "cvect = CountVectorizer(stop_words=['is', 'a', 'the'])\n",
        "print(cvect.fit_transform([text]).toarray())\n",
        "print(cvect.vocabulary_)"
      ],
      "metadata": {
        "colab": {
          "base_uri": "https://localhost:8080/"
        },
        "id": "4lJWLj2umEWG",
        "outputId": "030d3784-7f49-46b1-eaa1-5390b2001f89"
      },
      "execution_count": 9,
      "outputs": [
        {
          "output_type": "stream",
          "name": "stdout",
          "text": [
            "[[1 1 1 1 1 1 1 1 1 3 2 1 1]]\n",
            "{'sms': 9, 'spam': 10, 'collection': 2, 'set': 8, 'of': 6, 'tagged': 11, 'messages': 5, 'that': 12, 'have': 4, 'been': 0, 'collected': 1, 'for': 3, 'research': 7}\n"
          ]
        }
      ]
    },
    {
      "cell_type": "code",
      "source": [
        "# Scikit-learn에서 제공하는 불용어 사용\n",
        "cvect = CountVectorizer(stop_words='english')\n",
        "print(cvect.fit_transform([text]).toarray())\n",
        "print(cvect.vocabulary_)"
      ],
      "metadata": {
        "colab": {
          "base_uri": "https://localhost:8080/"
        },
        "id": "nYgYyVdbm1ex",
        "outputId": "5399701a-c60c-43ae-e031-cff31c4fe495"
      },
      "execution_count": 10,
      "outputs": [
        {
          "output_type": "stream",
          "name": "stdout",
          "text": [
            "[[1 1 1 1 1 3 2 1]]\n",
            "{'sms': 5, 'spam': 6, 'collection': 1, 'set': 4, 'tagged': 7, 'messages': 2, 'collected': 0, 'research': 3}\n"
          ]
        }
      ]
    },
    {
      "cell_type": "code",
      "source": [
        "# NLTK 불용어 사용\n",
        "import nltk\n",
        "nltk.download('stopwords')"
      ],
      "metadata": {
        "colab": {
          "base_uri": "https://localhost:8080/"
        },
        "id": "UUrYG8Z1ndJ8",
        "outputId": "8ed537be-d2ca-43b9-e00f-d9cfcf765150"
      },
      "execution_count": 11,
      "outputs": [
        {
          "output_type": "stream",
          "name": "stdout",
          "text": [
            "[nltk_data] Downloading package stopwords to /root/nltk_data...\n",
            "[nltk_data]   Unzipping corpora/stopwords.zip.\n"
          ]
        },
        {
          "output_type": "execute_result",
          "data": {
            "text/plain": [
              "True"
            ]
          },
          "metadata": {},
          "execution_count": 11
        }
      ]
    },
    {
      "cell_type": "code",
      "source": [
        "from nltk.corpus import stopwords\n",
        "sw = stopwords.words('english')\n",
        "len(sw), type(sw)"
      ],
      "metadata": {
        "colab": {
          "base_uri": "https://localhost:8080/"
        },
        "id": "KBUB1-uvn91u",
        "outputId": "9b3b76fb-f1cf-46ac-d207-0ac4ed08bb92"
      },
      "execution_count": 14,
      "outputs": [
        {
          "output_type": "execute_result",
          "data": {
            "text/plain": [
              "(179, list)"
            ]
          },
          "metadata": {},
          "execution_count": 14
        }
      ]
    },
    {
      "cell_type": "code",
      "source": [
        "cvect = CountVectorizer(stop_words=sw)\n",
        "print(cvect.fit_transform([text]).toarray())\n",
        "print(cvect.vocabulary_)"
      ],
      "metadata": {
        "colab": {
          "base_uri": "https://localhost:8080/"
        },
        "id": "qulAOL5uoL2a",
        "outputId": "bd9e18ad-ff22-4e23-af2b-6444ae515b04"
      },
      "execution_count": 15,
      "outputs": [
        {
          "output_type": "stream",
          "name": "stdout",
          "text": [
            "[[1 1 1 1 1 3 2 1]]\n",
            "{'sms': 5, 'spam': 6, 'collection': 1, 'set': 4, 'tagged': 7, 'messages': 2, 'collected': 0, 'research': 3}\n"
          ]
        }
      ]
    },
    {
      "cell_type": "markdown",
      "source": [
        "- 인덱스에 해당하는 단어가 무엇인지 알려주는 함수 제작"
      ],
      "metadata": {
        "id": "8sFbUkmBonO7"
      }
    },
    {
      "cell_type": "code",
      "source": [
        "voca = cvect.vocabulary_\n",
        "for key, value in voca.items():\n",
        "    print(key, value)"
      ],
      "metadata": {
        "colab": {
          "base_uri": "https://localhost:8080/"
        },
        "id": "wfHxqY5voZe-",
        "outputId": "3a6498bb-7aad-46cf-e847-c46e3effdbfb"
      },
      "execution_count": 16,
      "outputs": [
        {
          "output_type": "stream",
          "name": "stdout",
          "text": [
            "sms 5\n",
            "spam 6\n",
            "collection 1\n",
            "set 4\n",
            "tagged 7\n",
            "messages 2\n",
            "collected 0\n",
            "research 3\n"
          ]
        }
      ]
    },
    {
      "cell_type": "code",
      "source": [
        "def get_word(index, voca):\n",
        "    for key, value in voca.items():\n",
        "        if value == index:\n",
        "            return key"
      ],
      "metadata": {
        "id": "BRgLmO14pQXk"
      },
      "execution_count": 17,
      "outputs": []
    },
    {
      "cell_type": "code",
      "source": [
        "get_word(3, cvect.vocabulary_)"
      ],
      "metadata": {
        "colab": {
          "base_uri": "https://localhost:8080/",
          "height": 35
        },
        "id": "S6Be5_jYpcE0",
        "outputId": "e8a10957-6139-410d-9051-1b34eff7bf56"
      },
      "execution_count": 19,
      "outputs": [
        {
          "output_type": "execute_result",
          "data": {
            "text/plain": [
              "'research'"
            ],
            "application/vnd.google.colaboratory.intrinsic+json": {
              "type": "string"
            }
          },
          "metadata": {},
          "execution_count": 19
        }
      ]
    },
    {
      "cell_type": "markdown",
      "source": [
        "### 2.N-gram"
      ],
      "metadata": {
        "id": "c3LXBKK2sqx7"
      }
    },
    {
      "cell_type": "code",
      "source": [
        "text = ['I work at google.', 'I google at work']\n",
        "cvect = CountVectorizer()\n",
        "print(cvect.fit_transform(text).toarray())\n",
        "print(cvect.vocabulary_)"
      ],
      "metadata": {
        "colab": {
          "base_uri": "https://localhost:8080/"
        },
        "id": "okfhfFpiphaN",
        "outputId": "6eb31fc6-33a7-4dc4-fafb-3878bad174e6"
      },
      "execution_count": 28,
      "outputs": [
        {
          "output_type": "stream",
          "name": "stdout",
          "text": [
            "[[1 1 1]\n",
            " [1 1 1]]\n",
            "{'work': 2, 'at': 0, 'google': 1}\n"
          ]
        }
      ]
    },
    {
      "cell_type": "code",
      "source": [
        "# ngram => 단어의 순서를 반영하여 문장 일치 / 불일치 확인 가능\n",
        "cvect = CountVectorizer(ngram_range=(1, 2))\n",
        "print(cvect.fit_transform(text).toarray())\n",
        "print(cvect.vocabulary_)"
      ],
      "metadata": {
        "colab": {
          "base_uri": "https://localhost:8080/"
        },
        "id": "aAwarQ5YtpC0",
        "outputId": "841e1704-c81a-4335-d33e-ec5c7d6c746f"
      },
      "execution_count": 29,
      "outputs": [
        {
          "output_type": "stream",
          "name": "stdout",
          "text": [
            "[[1 1 0 1 0 1 1]\n",
            " [1 0 1 1 1 1 0]]\n",
            "{'work': 5, 'at': 0, 'google': 3, 'work at': 6, 'at google': 1, 'google at': 4, 'at work': 2}\n"
          ]
        }
      ]
    },
    {
      "cell_type": "markdown",
      "source": [
        "### 3. TfidfVectorizer(Term Frequency, Inverse Document Frequency)"
      ],
      "metadata": {
        "id": "qLlF4AbIud8V"
      }
    },
    {
      "cell_type": "code",
      "source": [
        "text = ['The SMS Spam Collection is a set of SMS tagged messages that have been collected for SMS Spam research.',\n",
        "        'It contains one set of SMS messages in English of 5,574 messages, tagged acording being ham (legitimate) or spam.']"
      ],
      "metadata": {
        "id": "S2HHyIDvt9e_"
      },
      "execution_count": 30,
      "outputs": []
    },
    {
      "cell_type": "code",
      "source": [
        "from sklearn.feature_extraction.text import TfidfVectorizer\n",
        "tvect = TfidfVectorizer(stop_words='english')\n",
        "print(tvect.fit_transform(text).toarray())"
      ],
      "metadata": {
        "colab": {
          "base_uri": "https://localhost:8080/"
        },
        "id": "Q3jwPT8bvAF3",
        "outputId": "1dc0bfab-bd3f-4f7e-cbf6-743c330717d3"
      },
      "execution_count": 31,
      "outputs": [
        {
          "output_type": "stream",
          "name": "stdout",
          "text": [
            "[[0.         0.         0.30015142 0.30015142 0.         0.\n",
            "  0.         0.         0.21356021 0.30015142 0.21356021 0.64068062\n",
            "  0.42712041 0.21356021]\n",
            " [0.31544091 0.31544091 0.         0.         0.31544091 0.31544091\n",
            "  0.31544091 0.31544091 0.44887761 0.         0.2244388  0.2244388\n",
            "  0.2244388  0.2244388 ]]\n"
          ]
        }
      ]
    },
    {
      "cell_type": "code",
      "source": [
        "cvect = CountVectorizer(stop_words='english')\n",
        "print(cvect.fit_transform(text).toarray())\n",
        "print(cvect.vocabulary_)"
      ],
      "metadata": {
        "colab": {
          "base_uri": "https://localhost:8080/"
        },
        "id": "y79DmoF_vYbB",
        "outputId": "cfc52528-9c82-4884-fa69-c2f1248f9afa"
      },
      "execution_count": 33,
      "outputs": [
        {
          "output_type": "stream",
          "name": "stdout",
          "text": [
            "[[0 0 1 1 0 0 0 0 1 1 1 3 2 1]\n",
            " [1 1 0 0 1 1 1 1 2 0 1 1 1 1]]\n",
            "{'sms': 11, 'spam': 12, 'collection': 3, 'set': 10, 'tagged': 13, 'messages': 8, 'collected': 2, 'research': 9, 'contains': 4, 'english': 5, '574': 0, 'acording': 1, 'ham': 6, 'legitimate': 7}\n"
          ]
        }
      ]
    }
  ]
}