{
  "nbformat": 4,
  "nbformat_minor": 0,
  "metadata": {
    "colab": {
      "name": "01_컨텐츠기반.ipynb",
      "provenance": [],
      "collapsed_sections": []
    },
    "kernelspec": {
      "name": "python3",
      "display_name": "Python 3"
    },
    "language_info": {
      "name": "python"
    }
  },
  "cells": [
    {
      "cell_type": "markdown",
      "source": [
        "# 컨텐츠 기반 필터링(Content-based Filtering)"
      ],
      "metadata": {
        "id": "bxj8cmOxIr8I"
      }
    },
    {
      "cell_type": "code",
      "execution_count": 1,
      "metadata": {
        "id": "uB5SaPhKIQMD"
      },
      "outputs": [],
      "source": [
        "# pc 설치\n",
        "# conda activate base\n",
        "# conda install -c conda-forge scikit-surprise"
      ]
    },
    {
      "cell_type": "code",
      "source": [
        "!pip install surprise"
      ],
      "metadata": {
        "colab": {
          "base_uri": "https://localhost:8080/"
        },
        "id": "Bf_DKaL3JbZF",
        "outputId": "cca092c3-4a50-455f-b7a0-ddc31212b37d"
      },
      "execution_count": 2,
      "outputs": [
        {
          "output_type": "stream",
          "name": "stdout",
          "text": [
            "Requirement already satisfied: surprise in /usr/local/lib/python3.7/dist-packages (0.1)\n",
            "Requirement already satisfied: scikit-surprise in /usr/local/lib/python3.7/dist-packages (from surprise) (1.1.1)\n",
            "Requirement already satisfied: six>=1.10.0 in /usr/local/lib/python3.7/dist-packages (from scikit-surprise->surprise) (1.15.0)\n",
            "Requirement already satisfied: joblib>=0.11 in /usr/local/lib/python3.7/dist-packages (from scikit-surprise->surprise) (1.1.0)\n",
            "Requirement already satisfied: numpy>=1.11.2 in /usr/local/lib/python3.7/dist-packages (from scikit-surprise->surprise) (1.21.6)\n",
            "Requirement already satisfied: scipy>=1.0.0 in /usr/local/lib/python3.7/dist-packages (from scikit-surprise->surprise) (1.4.1)\n"
          ]
        }
      ]
    },
    {
      "cell_type": "code",
      "source": [
        "import numpy as np\n",
        "import pandas as pd"
      ],
      "metadata": {
        "id": "VLAfUaekIrlp"
      },
      "execution_count": 3,
      "outputs": []
    },
    {
      "cell_type": "code",
      "source": [
        "from surprise import Dataset\n",
        "data = Dataset.load_builtin('ml-100k', prompt=False)\n",
        "df = pd.DataFrame(data.raw_ratings, columns=['user-id', 'movie-id', 'rating', 'timestamp'])\n",
        "df.head()"
      ],
      "metadata": {
        "colab": {
          "base_uri": "https://localhost:8080/",
          "height": 206
        },
        "id": "-cLvh470I984",
        "outputId": "e713a587-c64a-4e74-e7ff-2a14c26d325e"
      },
      "execution_count": 4,
      "outputs": [
        {
          "output_type": "execute_result",
          "data": {
            "text/plain": [
              "  user-id movie-id  rating  timestamp\n",
              "0     196      242     3.0  881250949\n",
              "1     186      302     3.0  891717742\n",
              "2      22      377     1.0  878887116\n",
              "3     244       51     2.0  880606923\n",
              "4     166      346     1.0  886397596"
            ],
            "text/html": [
              "\n",
              "  <div id=\"df-d69ddd1e-a471-4545-989c-eaaafbd20151\">\n",
              "    <div class=\"colab-df-container\">\n",
              "      <div>\n",
              "<style scoped>\n",
              "    .dataframe tbody tr th:only-of-type {\n",
              "        vertical-align: middle;\n",
              "    }\n",
              "\n",
              "    .dataframe tbody tr th {\n",
              "        vertical-align: top;\n",
              "    }\n",
              "\n",
              "    .dataframe thead th {\n",
              "        text-align: right;\n",
              "    }\n",
              "</style>\n",
              "<table border=\"1\" class=\"dataframe\">\n",
              "  <thead>\n",
              "    <tr style=\"text-align: right;\">\n",
              "      <th></th>\n",
              "      <th>user-id</th>\n",
              "      <th>movie-id</th>\n",
              "      <th>rating</th>\n",
              "      <th>timestamp</th>\n",
              "    </tr>\n",
              "  </thead>\n",
              "  <tbody>\n",
              "    <tr>\n",
              "      <th>0</th>\n",
              "      <td>196</td>\n",
              "      <td>242</td>\n",
              "      <td>3.0</td>\n",
              "      <td>881250949</td>\n",
              "    </tr>\n",
              "    <tr>\n",
              "      <th>1</th>\n",
              "      <td>186</td>\n",
              "      <td>302</td>\n",
              "      <td>3.0</td>\n",
              "      <td>891717742</td>\n",
              "    </tr>\n",
              "    <tr>\n",
              "      <th>2</th>\n",
              "      <td>22</td>\n",
              "      <td>377</td>\n",
              "      <td>1.0</td>\n",
              "      <td>878887116</td>\n",
              "    </tr>\n",
              "    <tr>\n",
              "      <th>3</th>\n",
              "      <td>244</td>\n",
              "      <td>51</td>\n",
              "      <td>2.0</td>\n",
              "      <td>880606923</td>\n",
              "    </tr>\n",
              "    <tr>\n",
              "      <th>4</th>\n",
              "      <td>166</td>\n",
              "      <td>346</td>\n",
              "      <td>1.0</td>\n",
              "      <td>886397596</td>\n",
              "    </tr>\n",
              "  </tbody>\n",
              "</table>\n",
              "</div>\n",
              "      <button class=\"colab-df-convert\" onclick=\"convertToInteractive('df-d69ddd1e-a471-4545-989c-eaaafbd20151')\"\n",
              "              title=\"Convert this dataframe to an interactive table.\"\n",
              "              style=\"display:none;\">\n",
              "        \n",
              "  <svg xmlns=\"http://www.w3.org/2000/svg\" height=\"24px\"viewBox=\"0 0 24 24\"\n",
              "       width=\"24px\">\n",
              "    <path d=\"M0 0h24v24H0V0z\" fill=\"none\"/>\n",
              "    <path d=\"M18.56 5.44l.94 2.06.94-2.06 2.06-.94-2.06-.94-.94-2.06-.94 2.06-2.06.94zm-11 1L8.5 8.5l.94-2.06 2.06-.94-2.06-.94L8.5 2.5l-.94 2.06-2.06.94zm10 10l.94 2.06.94-2.06 2.06-.94-2.06-.94-.94-2.06-.94 2.06-2.06.94z\"/><path d=\"M17.41 7.96l-1.37-1.37c-.4-.4-.92-.59-1.43-.59-.52 0-1.04.2-1.43.59L10.3 9.45l-7.72 7.72c-.78.78-.78 2.05 0 2.83L4 21.41c.39.39.9.59 1.41.59.51 0 1.02-.2 1.41-.59l7.78-7.78 2.81-2.81c.8-.78.8-2.07 0-2.86zM5.41 20L4 18.59l7.72-7.72 1.47 1.35L5.41 20z\"/>\n",
              "  </svg>\n",
              "      </button>\n",
              "      \n",
              "  <style>\n",
              "    .colab-df-container {\n",
              "      display:flex;\n",
              "      flex-wrap:wrap;\n",
              "      gap: 12px;\n",
              "    }\n",
              "\n",
              "    .colab-df-convert {\n",
              "      background-color: #E8F0FE;\n",
              "      border: none;\n",
              "      border-radius: 50%;\n",
              "      cursor: pointer;\n",
              "      display: none;\n",
              "      fill: #1967D2;\n",
              "      height: 32px;\n",
              "      padding: 0 0 0 0;\n",
              "      width: 32px;\n",
              "    }\n",
              "\n",
              "    .colab-df-convert:hover {\n",
              "      background-color: #E2EBFA;\n",
              "      box-shadow: 0px 1px 2px rgba(60, 64, 67, 0.3), 0px 1px 3px 1px rgba(60, 64, 67, 0.15);\n",
              "      fill: #174EA6;\n",
              "    }\n",
              "\n",
              "    [theme=dark] .colab-df-convert {\n",
              "      background-color: #3B4455;\n",
              "      fill: #D2E3FC;\n",
              "    }\n",
              "\n",
              "    [theme=dark] .colab-df-convert:hover {\n",
              "      background-color: #434B5C;\n",
              "      box-shadow: 0px 1px 3px 1px rgba(0, 0, 0, 0.15);\n",
              "      filter: drop-shadow(0px 1px 2px rgba(0, 0, 0, 0.3));\n",
              "      fill: #FFFFFF;\n",
              "    }\n",
              "  </style>\n",
              "\n",
              "      <script>\n",
              "        const buttonEl =\n",
              "          document.querySelector('#df-d69ddd1e-a471-4545-989c-eaaafbd20151 button.colab-df-convert');\n",
              "        buttonEl.style.display =\n",
              "          google.colab.kernel.accessAllowed ? 'block' : 'none';\n",
              "\n",
              "        async function convertToInteractive(key) {\n",
              "          const element = document.querySelector('#df-d69ddd1e-a471-4545-989c-eaaafbd20151');\n",
              "          const dataTable =\n",
              "            await google.colab.kernel.invokeFunction('convertToInteractive',\n",
              "                                                     [key], {});\n",
              "          if (!dataTable) return;\n",
              "\n",
              "          const docLinkHtml = 'Like what you see? Visit the ' +\n",
              "            '<a target=\"_blank\" href=https://colab.research.google.com/notebooks/data_table.ipynb>data table notebook</a>'\n",
              "            + ' to learn more about interactive tables.';\n",
              "          element.innerHTML = '';\n",
              "          dataTable['output_type'] = 'display_data';\n",
              "          await google.colab.output.renderOutput(dataTable, element);\n",
              "          const docLink = document.createElement('div');\n",
              "          docLink.innerHTML = docLinkHtml;\n",
              "          element.appendChild(docLink);\n",
              "        }\n",
              "      </script>\n",
              "    </div>\n",
              "  </div>\n",
              "  "
            ]
          },
          "metadata": {},
          "execution_count": 4
        }
      ]
    },
    {
      "cell_type": "code",
      "source": [
        "df.shape"
      ],
      "metadata": {
        "colab": {
          "base_uri": "https://localhost:8080/"
        },
        "id": "NtIkns8RI_6_",
        "outputId": "5a3d9f52-bfb8-4607-b89c-fac78fd66975"
      },
      "execution_count": 5,
      "outputs": [
        {
          "output_type": "execute_result",
          "data": {
            "text/plain": [
              "(100000, 4)"
            ]
          },
          "metadata": {},
          "execution_count": 5
        }
      ]
    },
    {
      "cell_type": "markdown",
      "source": [
        "### 1. Adjacent Matrix 생성\n",
        "- 행은 사용자\n",
        "- 열은 영화\n",
        "- 내용은 평점"
      ],
      "metadata": {
        "id": "GWIQqoGtKG0x"
      }
    },
    {
      "cell_type": "code",
      "source": [
        "raw_data = np.array(data.raw_ratings, dtype=int)\n",
        "np.min(raw_data, axis=0)"
      ],
      "metadata": {
        "colab": {
          "base_uri": "https://localhost:8080/"
        },
        "id": "q9HlHDbiJ1vn",
        "outputId": "0b2aad21-ed3c-4437-80d0-d1544bfbe2b1"
      },
      "execution_count": 6,
      "outputs": [
        {
          "output_type": "execute_result",
          "data": {
            "text/plain": [
              "array([        1,         1,         1, 874724710])"
            ]
          },
          "metadata": {},
          "execution_count": 6
        }
      ]
    },
    {
      "cell_type": "code",
      "source": [
        "np.max(raw_data, axis=0)"
      ],
      "metadata": {
        "colab": {
          "base_uri": "https://localhost:8080/"
        },
        "id": "7Ov30P12LKNE",
        "outputId": "222c6caa-fdfa-4d05-8988-dce97aa46f33"
      },
      "execution_count": 7,
      "outputs": [
        {
          "output_type": "execute_result",
          "data": {
            "text/plain": [
              "array([      943,      1682,         5, 893286638])"
            ]
          },
          "metadata": {},
          "execution_count": 7
        }
      ]
    },
    {
      "cell_type": "code",
      "source": [
        "# user-id, movie-id가 0부터 시작하도록 만들어 줌\n",
        "raw_data[:, :2] -= 1\n",
        "raw_data[:5]"
      ],
      "metadata": {
        "colab": {
          "base_uri": "https://localhost:8080/"
        },
        "id": "b6fpBT3sLSNy",
        "outputId": "aad69c4a-fb18-4b98-cf1a-de269af00672"
      },
      "execution_count": 8,
      "outputs": [
        {
          "output_type": "execute_result",
          "data": {
            "text/plain": [
              "array([[      195,       241,         3, 881250949],\n",
              "       [      185,       301,         3, 891717742],\n",
              "       [       21,       376,         1, 878887116],\n",
              "       [      243,        50,         2, 880606923],\n",
              "       [      165,       345,         1, 886397596]])"
            ]
          },
          "metadata": {},
          "execution_count": 8
        }
      ]
    },
    {
      "cell_type": "code",
      "source": [
        "# 행, 열의 갯수\n",
        "nrows = df['user-id'].nunique()      # 행의 갯수 = 사용자 수\n",
        "ncols = df['movie-id'].nunique()     # 열의 갯수 = 영화 갯수\n",
        "nrows, ncols"
      ],
      "metadata": {
        "colab": {
          "base_uri": "https://localhost:8080/"
        },
        "id": "rOPASSGTL1cx",
        "outputId": "cfd9458b-315b-4a4a-f033-3f1b3e044129"
      },
      "execution_count": 9,
      "outputs": [
        {
          "output_type": "execute_result",
          "data": {
            "text/plain": [
              "(943, 1682)"
            ]
          },
          "metadata": {},
          "execution_count": 9
        }
      ]
    },
    {
      "cell_type": "markdown",
      "source": [
        "#### 1) 본 영화 / 안본 영화로만 구분, 0 / 1"
      ],
      "metadata": {
        "id": "0w92qo2WM1gv"
      }
    },
    {
      "cell_type": "code",
      "source": [
        "# 본 영화 = 1, 안본 영화 = 0\n",
        "adj_matrix = np.zeros([nrows, ncols], int)\n",
        "for user_id, movie_id, _, _ in raw_data:\n",
        "    adj_matrix[user_id, movie_id] = 1\n",
        "adj_matrix[:5]"
      ],
      "metadata": {
        "colab": {
          "base_uri": "https://localhost:8080/"
        },
        "id": "1y8BuacuMYLl",
        "outputId": "0efa2aa5-8c31-41b7-9110-37ce77383ee4"
      },
      "execution_count": 10,
      "outputs": [
        {
          "output_type": "execute_result",
          "data": {
            "text/plain": [
              "array([[1, 1, 1, ..., 0, 0, 0],\n",
              "       [1, 0, 0, ..., 0, 0, 0],\n",
              "       [0, 0, 0, ..., 0, 0, 0],\n",
              "       [0, 0, 0, ..., 0, 0, 0],\n",
              "       [1, 1, 0, ..., 0, 0, 0]])"
            ]
          },
          "metadata": {},
          "execution_count": 10
        }
      ]
    },
    {
      "cell_type": "code",
      "source": [
        "# 0번 데이터를 내 데이터라고 가정함\n",
        "my_id, my_vector = 0, adj_matrix[0]"
      ],
      "metadata": {
        "id": "tkwA7pUwNdxF"
      },
      "execution_count": 11,
      "outputs": []
    },
    {
      "cell_type": "code",
      "source": [
        "# 유사도 => 이진 벡터의 내적\n",
        "# 나와 10번 사용자와의 유사도\n",
        "np.dot(my_vector, adj_matrix[10]), np.dot(my_vector, adj_matrix[20])"
      ],
      "metadata": {
        "colab": {
          "base_uri": "https://localhost:8080/"
        },
        "id": "utKLSmFhetGm",
        "outputId": "84603bc7-5369-4ded-b9e2-29e7fb21f2de"
      },
      "execution_count": 12,
      "outputs": [
        {
          "output_type": "execute_result",
          "data": {
            "text/plain": [
              "(71, 42)"
            ]
          },
          "metadata": {},
          "execution_count": 12
        }
      ]
    },
    {
      "cell_type": "code",
      "source": [
        "# 누가 나랑 닮았나?\n",
        "best_score, best_match_id = 0, 0\n",
        "for i in range(1, len(adj_matrix)):\n",
        "    dot = np.dot(my_vector, adj_matrix[i])\n",
        "    if dot > best_score:\n",
        "        best_score, best_match_id = dot, i\n",
        "\n",
        "best_score, best_match_id"
      ],
      "metadata": {
        "colab": {
          "base_uri": "https://localhost:8080/"
        },
        "id": "fvTKrc-Ke8M_",
        "outputId": "65cd1789-6ba0-4834-d7fa-4c90e0dd5572"
      },
      "execution_count": 13,
      "outputs": [
        {
          "output_type": "execute_result",
          "data": {
            "text/plain": [
              "(183, 275)"
            ]
          },
          "metadata": {},
          "execution_count": 13
        }
      ]
    },
    {
      "cell_type": "code",
      "source": [
        "best_vector = adj_matrix[best_match_id]\n",
        "my_vector[200:210], best_vector[200:210]"
      ],
      "metadata": {
        "colab": {
          "base_uri": "https://localhost:8080/"
        },
        "id": "1472jwaYf2CB",
        "outputId": "24d50ecf-5fc3-4578-e578-5c2890ba16c7"
      },
      "execution_count": 14,
      "outputs": [
        {
          "output_type": "execute_result",
          "data": {
            "text/plain": [
              "(array([1, 1, 1, 1, 1, 1, 1, 1, 1, 1]), array([1, 1, 1, 1, 0, 1, 1, 0, 1, 1]))"
            ]
          },
          "metadata": {},
          "execution_count": 14
        }
      ]
    },
    {
      "cell_type": "code",
      "source": [
        "# 내가 보지 않은 영화중에서 best_match 사용자가 본 영화 => 추천\n",
        "recommend_list = []\n",
        "for i, (my_view, best_match_view) in enumerate(zip(my_vector, best_vector)):\n",
        "    if my_view == 0 and best_match_view == 1:\n",
        "        recommend_list.append(i)\n",
        "\n",
        "len(recommend_list), recommend_list[:10]"
      ],
      "metadata": {
        "colab": {
          "base_uri": "https://localhost:8080/"
        },
        "id": "mew209ZzgH0u",
        "outputId": "b280b5ad-b182-4aab-efee-9b3bf0991a50"
      },
      "execution_count": 15,
      "outputs": [
        {
          "output_type": "execute_result",
          "data": {
            "text/plain": [
              "(335, [272, 273, 275, 280, 281, 283, 287, 288, 289, 290])"
            ]
          },
          "metadata": {},
          "execution_count": 15
        }
      ]
    },
    {
      "cell_type": "markdown",
      "source": [
        "#### 2) 평점 점수를 주는 경우"
      ],
      "metadata": {
        "id": "2Pp_3MzbhMRB"
      }
    },
    {
      "cell_type": "code",
      "source": [
        "adj_matrix = np.zeros([nrows, ncols], int)\n",
        "for user_id, movie_id, rating, _ in raw_data:\n",
        "    adj_matrix[user_id, movie_id] = rating\n",
        "adj_matrix[:5]"
      ],
      "metadata": {
        "colab": {
          "base_uri": "https://localhost:8080/"
        },
        "id": "FDR4m99cg_li",
        "outputId": "840f611f-0281-4870-97d8-16b11bded07f"
      },
      "execution_count": 16,
      "outputs": [
        {
          "output_type": "execute_result",
          "data": {
            "text/plain": [
              "array([[5, 3, 4, ..., 0, 0, 0],\n",
              "       [4, 0, 0, ..., 0, 0, 0],\n",
              "       [0, 0, 0, ..., 0, 0, 0],\n",
              "       [0, 0, 0, ..., 0, 0, 0],\n",
              "       [4, 3, 0, ..., 0, 0, 0]])"
            ]
          },
          "metadata": {},
          "execution_count": 16
        }
      ]
    },
    {
      "cell_type": "markdown",
      "source": [
        "- Case 1: 유클리드 거리"
      ],
      "metadata": {
        "id": "r_63GOAZhtNc"
      }
    },
    {
      "cell_type": "code",
      "source": [
        "# 누가 나랑 닮았나?\n",
        "best_score, best_match_id = 100000, 0\n",
        "my_vector = adj_matrix[0]\n",
        "\n",
        "for i in range(1, len(adj_matrix)):\n",
        "    euc = np.sqrt(np.sum(np.square(my_vector - adj_matrix[i])))\n",
        "    if euc < best_score:\n",
        "        best_score, best_match_id = euc, i\n",
        "\n",
        "best_score, best_match_id"
      ],
      "metadata": {
        "colab": {
          "base_uri": "https://localhost:8080/"
        },
        "id": "IRAtMFfbhZ_7",
        "outputId": "c38ecea7-0c18-4b08-d9e4-76301bf038fd"
      },
      "execution_count": 17,
      "outputs": [
        {
          "output_type": "execute_result",
          "data": {
            "text/plain": [
              "(55.06359959174482, 737)"
            ]
          },
          "metadata": {},
          "execution_count": 17
        }
      ]
    },
    {
      "cell_type": "code",
      "source": [
        "# 내가 보지 않은 영화중에서 best_match 사용자가 본 영화 => 추천\n",
        "best_vector = adj_matrix[best_match_id]\n",
        "recommend_list = []\n",
        "for i, (my_view, best_match_view) in enumerate(zip(my_vector, best_vector)):\n",
        "    if my_view == 0 and best_match_view >= 1:\n",
        "        recommend_list.append(i)\n",
        "\n",
        "len(recommend_list), recommend_list[:10]"
      ],
      "metadata": {
        "colab": {
          "base_uri": "https://localhost:8080/"
        },
        "id": "IWXsUPUGiljt",
        "outputId": "a3b3b2c0-ba19-4d0a-f842-22607d8e4511"
      },
      "execution_count": 18,
      "outputs": [
        {
          "output_type": "execute_result",
          "data": {
            "text/plain": [
              "(48, [297, 312, 317, 342, 356, 366, 379, 384, 392, 402])"
            ]
          },
          "metadata": {},
          "execution_count": 18
        }
      ]
    },
    {
      "cell_type": "code",
      "source": [
        "# 내가 보지 않은 영화중에서 best_match 사용자가 본 평점이 좋은 영화 => 추천\n",
        "best_vector = adj_matrix[best_match_id]\n",
        "recommend_list = []\n",
        "for i, (my_view, best_match_view) in enumerate(zip(my_vector, best_vector)):\n",
        "    if my_view == 0 and best_match_view >= 4:\n",
        "        recommend_list.append(i)\n",
        "\n",
        "len(recommend_list), recommend_list[:10]"
      ],
      "metadata": {
        "colab": {
          "base_uri": "https://localhost:8080/"
        },
        "id": "lQLIqZ5ZkVE0",
        "outputId": "97f52ecf-bf43-43c7-966f-a635bf199fac"
      },
      "execution_count": 21,
      "outputs": [
        {
          "output_type": "execute_result",
          "data": {
            "text/plain": [
              "(21, [312, 317, 356, 384, 407, 422, 433, 454, 469, 473])"
            ]
          },
          "metadata": {},
          "execution_count": 21
        }
      ]
    },
    {
      "cell_type": "markdown",
      "source": [
        "- Case 2: 코사인 유사도"
      ],
      "metadata": {
        "id": "xIsmoEGGlz0E"
      }
    },
    {
      "cell_type": "code",
      "source": [
        "def cos_similarity(v1, v2):\n",
        "    v1_norm = np.sqrt(np.sum(np.square(v1)))\n",
        "    v2_norm = np.sqrt(np.sum(np.square(v2)))\n",
        "    return np.dot(v1, v2) / (v1_norm * v2_norm)"
      ],
      "metadata": {
        "id": "oDsMkI8vleE7"
      },
      "execution_count": 22,
      "outputs": []
    },
    {
      "cell_type": "code",
      "source": [
        "# 누가 나랑 닮았나?\n",
        "best_score, best_match_id = -1, 0\n",
        "my_vector = adj_matrix[0]\n",
        "\n",
        "for i in range(1, len(adj_matrix)):\n",
        "    cos_sim = cos_similarity(my_vector, adj_matrix[i])\n",
        "    if cos_sim > best_score:\n",
        "        best_score, best_match_id = cos_sim, i\n",
        "\n",
        "best_score, best_match_id"
      ],
      "metadata": {
        "colab": {
          "base_uri": "https://localhost:8080/"
        },
        "id": "0S24eNyRmNp_",
        "outputId": "d09f51b8-bc55-4334-dfeb-819b6891fbab"
      },
      "execution_count": 23,
      "outputs": [
        {
          "output_type": "execute_result",
          "data": {
            "text/plain": [
              "(0.569065731527988, 915)"
            ]
          },
          "metadata": {},
          "execution_count": 23
        }
      ]
    },
    {
      "cell_type": "code",
      "source": [
        "# 내가 보지 않은 영화중에서 best_match 사용자가 본 평점이 좋은 영화 => 추천\n",
        "best_vector = adj_matrix[best_match_id]\n",
        "recommend_list = []\n",
        "for i, (my_view, best_match_view) in enumerate(zip(my_vector, best_vector)):\n",
        "    if my_view == 0 and best_match_view >= 4:\n",
        "        recommend_list.append(i)\n",
        "\n",
        "len(recommend_list), recommend_list[:10]"
      ],
      "metadata": {
        "colab": {
          "base_uri": "https://localhost:8080/"
        },
        "id": "hu4F68P-mjxF",
        "outputId": "e1d1d3dd-36d4-452c-d473-55f0c81917f7"
      },
      "execution_count": 24,
      "outputs": [
        {
          "output_type": "execute_result",
          "data": {
            "text/plain": [
              "(58, [275, 285, 316, 317, 381, 386, 420, 424, 426, 427])"
            ]
          },
          "metadata": {},
          "execution_count": 24
        }
      ]
    }
  ]
}